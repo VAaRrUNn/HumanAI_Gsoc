{
 "cells": [
  {
   "cell_type": "code",
   "execution_count": 28,
   "id": "e9cb48c1-e2ce-43d5-91f0-78b54a09482a",
   "metadata": {},
   "outputs": [],
   "source": [
    "import os\n",
    "from pathlib import Path\n",
    "import re\n",
    "from typing import List, Optional, Tuple\n",
    "import pandas as pd\n",
    "import numpy as np"
   ]
  },
  {
   "cell_type": "code",
   "execution_count": 29,
   "id": "24898647-8c89-43b6-956a-3300c509bae9",
   "metadata": {},
   "outputs": [],
   "source": [
    "data_dir = Path(\"../Data\")\n",
    "text_path = data_dir / Path(\"text.txt\")\n",
    "images_path = data_dir / Path(\"images\")\n",
    "with open(text_path) as f:\n",
    "    labels = f.read()\n",
    "    labels = labels.split(\"PDF\")"
   ]
  },
  {
   "cell_type": "markdown",
   "id": "0d15e235",
   "metadata": {},
   "source": [
    "### Splitting the text and preprocessing the text:\n",
    "1. removing newline character\n",
    "2. remove the px (i.e., the page no, which was in the original text)"
   ]
  },
  {
   "cell_type": "code",
   "execution_count": 30,
   "id": "46bf9ea4-b67f-4797-a45d-8ddf9205a5c8",
   "metadata": {},
   "outputs": [],
   "source": [
    "def remove_p_digit(inp):\n",
    "    out = re.sub(r\"[pP]\\d\", '', inp)\n",
    "    return out\n",
    "def remove_new_line(inp):\n",
    "    out = inp.replace(\"\\n\", '')\n",
    "    return out\n",
    "\n",
    "def preprocess(input_strings: List[str]) -> List[str]:\n",
    "    output = []\n",
    "    for text in input_strings:\n",
    "        temp = remove_new_line(text)\n",
    "        temp = remove_p_digit(temp)\n",
    "        output.append(temp)\n",
    "\n",
    "    # For removing any empty strings\n",
    "    for i, text in enumerate(output):\n",
    "        if len(text) == 0:\n",
    "            del output[i]\n",
    "            \n",
    "    return output\n",
    "\n",
    "new_labels = preprocess(labels)  "
   ]
  },
  {
   "cell_type": "markdown",
   "id": "27a8009d-868b-4fa5-abe0-2b85c94d6914",
   "metadata": {},
   "source": [
    "### Making a csv file to store all the information about the dataset"
   ]
  },
  {
   "cell_type": "code",
   "execution_count": 37,
   "id": "340d1287-02da-4cd4-89c0-763cd1a7bef1",
   "metadata": {},
   "outputs": [],
   "source": [
    "df = pd.DataFrame(data = {\"images\": os.listdir(images_path)[:len(new_labels)],\n",
    "                          \"labels\": new_labels},)\n",
    "DATASET_PATH = data_dir / Path(\"dataset.csv\")\n",
    "df.to_csv(DATASET_PATH, index = False)"
   ]
  },
  {
   "cell_type": "code",
   "execution_count": null,
   "id": "9687b4d6-5cb6-41dc-bba3-7c84ccf503e4",
   "metadata": {},
   "outputs": [],
   "source": []
  },
  {
   "cell_type": "code",
   "execution_count": null,
   "id": "61f00b7d-1b4d-468b-9b88-9f8d34c408f2",
   "metadata": {},
   "outputs": [],
   "source": []
  },
  {
   "cell_type": "code",
   "execution_count": null,
   "id": "5563cfdd-ee51-431c-9e1d-5bc7beb34de3",
   "metadata": {},
   "outputs": [],
   "source": []
  },
  {
   "cell_type": "code",
   "execution_count": null,
   "id": "5dee102c-a68e-4150-97bb-06bb08dec323",
   "metadata": {},
   "outputs": [],
   "source": []
  },
  {
   "cell_type": "code",
   "execution_count": null,
   "id": "4f6d9b2f-0c66-40c1-94b6-029c533712db",
   "metadata": {},
   "outputs": [],
   "source": []
  }
 ],
 "metadata": {
  "kernelspec": {
   "display_name": "Python 3 (ipykernel)",
   "language": "python",
   "name": "python3"
  },
  "language_info": {
   "codemirror_mode": {
    "name": "ipython",
    "version": 3
   },
   "file_extension": ".py",
   "mimetype": "text/x-python",
   "name": "python",
   "nbconvert_exporter": "python",
   "pygments_lexer": "ipython3",
   "version": "3.12.2"
  }
 },
 "nbformat": 4,
 "nbformat_minor": 5
}
